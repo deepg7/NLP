{
  "nbformat": 4,
  "nbformat_minor": 0,
  "metadata": {
    "colab": {
      "provenance": [],
      "authorship_tag": "ABX9TyNiAZdN4g8/Kj+KhsPSs6vN",
      "include_colab_link": true
    },
    "kernelspec": {
      "name": "python3",
      "display_name": "Python 3"
    },
    "language_info": {
      "name": "python"
    }
  },
  "cells": [
    {
      "cell_type": "markdown",
      "metadata": {
        "id": "view-in-github",
        "colab_type": "text"
      },
      "source": [
        "<a href=\"https://colab.research.google.com/github/deepg7/NLP/blob/main/NLP_TASK_2.ipynb\" target=\"_parent\"><img src=\"https://colab.research.google.com/assets/colab-badge.svg\" alt=\"Open In Colab\"/></a>"
      ]
    },
    {
      "cell_type": "code",
      "execution_count": 7,
      "metadata": {
        "id": "3Mbm_qa5WwdQ"
      },
      "outputs": [],
      "source": [
        "import nltk"
      ]
    },
    {
      "cell_type": "code",
      "source": [
        "text1 = 'Natural language processing (NLP) is an interdisciplinary subfield of linguistics, computer science, and artificial intelligence concerned with the interactions between computers and human language, in particular how to program computers to process and analyze large amounts of natural language data. The goal is a computer capable of \"understanding\" the contents of documents, including the contextual nuances of the language within them. The technology can then accurately extract information and insights contained in the documents as well as categorize and organize the documents themselves.'\n",
        "fd = nltk.FreqDist(text1.split())\n",
        "fd"
      ],
      "metadata": {
        "colab": {
          "base_uri": "https://localhost:8080/"
        },
        "id": "OPpwjA37XWnk",
        "outputId": "e46bc2b7-c0d5-42e8-c47c-c940ee14760a"
      },
      "execution_count": 8,
      "outputs": [
        {
          "output_type": "execute_result",
          "data": {
            "text/plain": [
              "FreqDist({'the': 6, 'of': 5, 'and': 5, 'language': 3, 'is': 2, 'computer': 2, 'computers': 2, 'in': 2, 'to': 2, 'The': 2, ...})"
            ]
          },
          "metadata": {},
          "execution_count": 8
        }
      ]
    },
    {
      "cell_type": "code",
      "source": [
        "from nltk.probability import ConditionalFreqDist\n",
        "cfd = ConditionalFreqDist((len(word),word) for word in text1.split())\n",
        "cfd[2]"
      ],
      "metadata": {
        "colab": {
          "base_uri": "https://localhost:8080/"
        },
        "id": "eI2YtotFX1yX",
        "outputId": "107feeb2-bd35-416a-eeaa-133401f51067"
      },
      "execution_count": 13,
      "outputs": [
        {
          "output_type": "execute_result",
          "data": {
            "text/plain": [
              "FreqDist({'of': 5, 'is': 2, 'in': 2, 'to': 2, 'as': 2, 'an': 1})"
            ]
          },
          "metadata": {},
          "execution_count": 13
        }
      ]
    },
    {
      "cell_type": "code",
      "source": [
        "#to determine frequency distribution and conditional freq dist of any one of the presidential inaugural speeches\n",
        "# nouns mean business\n"
      ],
      "metadata": {
        "id": "jD9g5608Y7P1"
      },
      "execution_count": null,
      "outputs": []
    },
    {
      "cell_type": "code",
      "source": [
        "nltk.download('nps_chat')\n",
        "nltk.download('webtext')\n",
        "nltk.download('popular')\n",
        "nltk.download('brown')\n",
        "from nltk.book import *"
      ],
      "metadata": {
        "colab": {
          "base_uri": "https://localhost:8080/"
        },
        "id": "JdG7ToXgaZRS",
        "outputId": "4c133fd6-030d-4757-b0e5-6edd7d801e9d"
      },
      "execution_count": 15,
      "outputs": [
        {
          "output_type": "stream",
          "name": "stderr",
          "text": [
            "[nltk_data] Downloading package nps_chat to /root/nltk_data...\n",
            "[nltk_data]   Package nps_chat is already up-to-date!\n",
            "[nltk_data] Downloading package webtext to /root/nltk_data...\n",
            "[nltk_data]   Package webtext is already up-to-date!\n",
            "[nltk_data] Downloading collection 'popular'\n",
            "[nltk_data]    | \n",
            "[nltk_data]    | Downloading package cmudict to /root/nltk_data...\n",
            "[nltk_data]    |   Package cmudict is already up-to-date!\n",
            "[nltk_data]    | Downloading package gazetteers to /root/nltk_data...\n",
            "[nltk_data]    |   Package gazetteers is already up-to-date!\n",
            "[nltk_data]    | Downloading package genesis to /root/nltk_data...\n",
            "[nltk_data]    |   Package genesis is already up-to-date!\n",
            "[nltk_data]    | Downloading package gutenberg to /root/nltk_data...\n",
            "[nltk_data]    |   Package gutenberg is already up-to-date!\n",
            "[nltk_data]    | Downloading package inaugural to /root/nltk_data...\n",
            "[nltk_data]    |   Package inaugural is already up-to-date!\n",
            "[nltk_data]    | Downloading package movie_reviews to\n",
            "[nltk_data]    |     /root/nltk_data...\n",
            "[nltk_data]    |   Package movie_reviews is already up-to-date!\n",
            "[nltk_data]    | Downloading package names to /root/nltk_data...\n",
            "[nltk_data]    |   Package names is already up-to-date!\n",
            "[nltk_data]    | Downloading package shakespeare to /root/nltk_data...\n",
            "[nltk_data]    |   Package shakespeare is already up-to-date!\n",
            "[nltk_data]    | Downloading package stopwords to /root/nltk_data...\n",
            "[nltk_data]    |   Package stopwords is already up-to-date!\n",
            "[nltk_data]    | Downloading package treebank to /root/nltk_data...\n",
            "[nltk_data]    |   Package treebank is already up-to-date!\n",
            "[nltk_data]    | Downloading package twitter_samples to\n",
            "[nltk_data]    |     /root/nltk_data...\n",
            "[nltk_data]    |   Package twitter_samples is already up-to-date!\n",
            "[nltk_data]    | Downloading package omw to /root/nltk_data...\n",
            "[nltk_data]    |   Package omw is already up-to-date!\n",
            "[nltk_data]    | Downloading package omw-1.4 to /root/nltk_data...\n",
            "[nltk_data]    |   Package omw-1.4 is already up-to-date!\n",
            "[nltk_data]    | Downloading package wordnet to /root/nltk_data...\n",
            "[nltk_data]    |   Package wordnet is already up-to-date!\n",
            "[nltk_data]    | Downloading package wordnet2021 to /root/nltk_data...\n",
            "[nltk_data]    |   Package wordnet2021 is already up-to-date!\n",
            "[nltk_data]    | Downloading package wordnet31 to /root/nltk_data...\n",
            "[nltk_data]    |   Package wordnet31 is already up-to-date!\n",
            "[nltk_data]    | Downloading package wordnet_ic to /root/nltk_data...\n",
            "[nltk_data]    |   Package wordnet_ic is already up-to-date!\n",
            "[nltk_data]    | Downloading package words to /root/nltk_data...\n",
            "[nltk_data]    |   Package words is already up-to-date!\n",
            "[nltk_data]    | Downloading package maxent_ne_chunker to\n",
            "[nltk_data]    |     /root/nltk_data...\n",
            "[nltk_data]    |   Package maxent_ne_chunker is already up-to-date!\n",
            "[nltk_data]    | Downloading package punkt to /root/nltk_data...\n",
            "[nltk_data]    |   Package punkt is already up-to-date!\n",
            "[nltk_data]    | Downloading package snowball_data to\n",
            "[nltk_data]    |     /root/nltk_data...\n",
            "[nltk_data]    |   Package snowball_data is already up-to-date!\n",
            "[nltk_data]    | Downloading package averaged_perceptron_tagger to\n",
            "[nltk_data]    |     /root/nltk_data...\n",
            "[nltk_data]    |   Package averaged_perceptron_tagger is already up-\n",
            "[nltk_data]    |       to-date!\n",
            "[nltk_data]    | \n",
            "[nltk_data]  Done downloading collection popular\n",
            "[nltk_data] Downloading package brown to /root/nltk_data...\n",
            "[nltk_data]   Package brown is already up-to-date!\n"
          ]
        },
        {
          "output_type": "stream",
          "name": "stdout",
          "text": [
            "*** Introductory Examples for the NLTK Book ***\n",
            "Loading text1, ..., text9 and sent1, ..., sent9\n",
            "Type the name of the text or sentence to view it.\n",
            "Type: 'texts()' or 'sents()' to list the materials.\n",
            "text1: Moby Dick by Herman Melville 1851\n",
            "text2: Sense and Sensibility by Jane Austen 1811\n",
            "text3: The Book of Genesis\n",
            "text4: Inaugural Address Corpus\n",
            "text5: Chat Corpus\n",
            "text6: Monty Python and the Holy Grail\n",
            "text7: Wall Street Journal\n",
            "text8: Personals Corpus\n",
            "text9: The Man Who Was Thursday by G . K . Chesterton 1908\n"
          ]
        }
      ]
    },
    {
      "cell_type": "code",
      "source": [
        "from nltk.corpus import inaugural\n",
        "text = inaugural.words(fileids='2009-Obama.txt')\n",
        "fd = nltk.FreqDist(text)\n",
        "fd"
      ],
      "metadata": {
        "colab": {
          "base_uri": "https://localhost:8080/"
        },
        "id": "I3sRBxxJbJGq",
        "outputId": "8ccdf7db-bc4c-4099-ca28-b7b9bc893b39"
      },
      "execution_count": 19,
      "outputs": [
        {
          "output_type": "execute_result",
          "data": {
            "text/plain": [
              "FreqDist({',': 130, 'the': 126, '.': 108, 'and': 105, 'of': 82, 'to': 66, 'our': 58, 'we': 50, 'that': 48, 'a': 47, ...})"
            ]
          },
          "metadata": {},
          "execution_count": 19
        }
      ]
    },
    {
      "cell_type": "code",
      "source": [
        "confd = ConditionalFreqDist((len(word),word) for word in text)\n",
        "confd[5]"
      ],
      "metadata": {
        "colab": {
          "base_uri": "https://localhost:8080/"
        },
        "id": "-e0y_F2-blvl",
        "outputId": "260a41a9-ba90-443f-fbe3-461acf0b0c10"
      },
      "execution_count": 22,
      "outputs": [
        {
          "output_type": "execute_result",
          "data": {
            "text/plain": [
              "FreqDist({'those': 10, 'their': 9, 'every': 8, 'these': 7, 'world': 7, 'today': 5, 'words': 4, 'peace': 4, 'women': 4, 'power': 4, ...})"
            ]
          },
          "metadata": {},
          "execution_count": 22
        }
      ]
    },
    {
      "cell_type": "code",
      "source": [
        "import jieba"
      ],
      "metadata": {
        "id": "Y57INVTHaydW"
      },
      "execution_count": 16,
      "outputs": []
    },
    {
      "cell_type": "code",
      "source": [
        "seg = jieba.cut(\"他今天晚上不来参加宴会了，对吗？\",cut_all = True)\n",
        "print(\" \".join(seg))"
      ],
      "metadata": {
        "colab": {
          "base_uri": "https://localhost:8080/"
        },
        "id": "ez_aUjTLbHBm",
        "outputId": "06b02cab-fe5d-472f-c724-746d893a4b61"
      },
      "execution_count": 23,
      "outputs": [
        {
          "output_type": "stream",
          "name": "stderr",
          "text": [
            "Building prefix dict from the default dictionary ...\n",
            "DEBUG:jieba:Building prefix dict from the default dictionary ...\n",
            "Dumping model to file cache /tmp/jieba.cache\n",
            "DEBUG:jieba:Dumping model to file cache /tmp/jieba.cache\n",
            "Loading model cost 1.276 seconds.\n",
            "DEBUG:jieba:Loading model cost 1.276 seconds.\n",
            "Prefix dict has been built successfully.\n",
            "DEBUG:jieba:Prefix dict has been built successfully.\n"
          ]
        },
        {
          "output_type": "stream",
          "name": "stdout",
          "text": [
            "他 今天 晚上 不来 参加 宴会 了 ， 对 吗 ？\n"
          ]
        }
      ]
    },
    {
      "cell_type": "code",
      "source": [
        "sent = 'Become an expert in NLP'\n",
        "words = nltk.word_tokenize(sent)\n",
        "print(words)"
      ],
      "metadata": {
        "colab": {
          "base_uri": "https://localhost:8080/"
        },
        "id": "KaGk4NODcMyG",
        "outputId": "88454c36-1b00-48ff-94e9-69e5d124d876"
      },
      "execution_count": 24,
      "outputs": [
        {
          "output_type": "stream",
          "name": "stdout",
          "text": [
            "['Become', 'an', 'expert', 'in', 'NLP']\n"
          ]
        }
      ]
    },
    {
      "cell_type": "code",
      "source": [
        "text2 = \"Cristiano Ronaldo dos Santos Aveiro GOIH ComM (Portuguese pronunciation; born 5 February 1985) is a Portuguese professional footballer who plays as a forward and captains the Portugal national team. He is currently a free agent. Widely regarded as one of the greatest players of all time, Ronaldo has won five Ballon dOr awards and four European Golden Shoes, the most by a European player. He has won 32 trophies in his career, including seven league titles, five UEFA Champions Leagues, and the UEFA European Championship. Ronaldo holds the records for most appearances (183), goals (140), and assists (42) in the Champions League, goals in the European Championship (14), international goals (118), and joint-most international appearances (196). He is one of the few players to have made over 1,100 professional career appearances, and has scored over 800 official senior career goals for club and country. He is the only male player to score in five World Cup tournaments.\"\n",
        "sentences = nltk.sent_tokenize(text2)\n",
        "sentences"
      ],
      "metadata": {
        "colab": {
          "base_uri": "https://localhost:8080/"
        },
        "id": "hiCzUSxGc_8I",
        "outputId": "b56d72da-42f3-4308-e17a-e357feb0d277"
      },
      "execution_count": 27,
      "outputs": [
        {
          "output_type": "execute_result",
          "data": {
            "text/plain": [
              "['Cristiano Ronaldo dos Santos Aveiro GOIH ComM (Portuguese pronunciation; born 5 February 1985) is a Portuguese professional footballer who plays as a forward and captains the Portugal national team.',\n",
              " 'He is currently a free agent.',\n",
              " 'Widely regarded as one of the greatest players of all time, Ronaldo has won five Ballon dOr awards and four European Golden Shoes, the most by a European player.',\n",
              " 'He has won 32 trophies in his career, including seven league titles, five UEFA Champions Leagues, and the UEFA European Championship.',\n",
              " 'Ronaldo holds the records for most appearances (183), goals (140), and assists (42) in the Champions League, goals in the European Championship (14), international goals (118), and joint-most international appearances (196).',\n",
              " 'He is one of the few players to have made over 1,100 professional career appearances, and has scored over 800 official senior career goals for club and country.',\n",
              " 'He is the only male player to score in five World Cup tournaments.']"
            ]
          },
          "metadata": {},
          "execution_count": 27
        }
      ]
    },
    {
      "cell_type": "code",
      "source": [
        "for sentence in sentences:\n",
        "  words = nltk.word_tokenize(sentence)\n",
        "  print(words)\n",
        "  tagged = nltk.pos_tag(words)\n",
        "  print(tagged)\n"
      ],
      "metadata": {
        "colab": {
          "base_uri": "https://localhost:8080/"
        },
        "id": "gg_Yhg_adu9C",
        "outputId": "09117ce3-1304-49c5-cdba-b8f2267511f0"
      },
      "execution_count": 30,
      "outputs": [
        {
          "output_type": "stream",
          "name": "stdout",
          "text": [
            "['Cristiano', 'Ronaldo', 'dos', 'Santos', 'Aveiro', 'GOIH', 'ComM', '(', 'Portuguese', 'pronunciation', ';', 'born', '5', 'February', '1985', ')', 'is', 'a', 'Portuguese', 'professional', 'footballer', 'who', 'plays', 'as', 'a', 'forward', 'and', 'captains', 'the', 'Portugal', 'national', 'team', '.']\n",
            "[('Cristiano', 'NNP'), ('Ronaldo', 'NNP'), ('dos', 'NN'), ('Santos', 'NNP'), ('Aveiro', 'NNP'), ('GOIH', 'NNP'), ('ComM', 'NNP'), ('(', '('), ('Portuguese', 'JJ'), ('pronunciation', 'NN'), (';', ':'), ('born', 'CC'), ('5', 'CD'), ('February', 'NNP'), ('1985', 'CD'), (')', ')'), ('is', 'VBZ'), ('a', 'DT'), ('Portuguese', 'JJ'), ('professional', 'JJ'), ('footballer', 'NN'), ('who', 'WP'), ('plays', 'VBZ'), ('as', 'IN'), ('a', 'DT'), ('forward', 'NN'), ('and', 'CC'), ('captains', 'VBZ'), ('the', 'DT'), ('Portugal', 'NNP'), ('national', 'JJ'), ('team', 'NN'), ('.', '.')]\n",
            "['He', 'is', 'currently', 'a', 'free', 'agent', '.']\n",
            "[('He', 'PRP'), ('is', 'VBZ'), ('currently', 'RB'), ('a', 'DT'), ('free', 'JJ'), ('agent', 'NN'), ('.', '.')]\n",
            "['Widely', 'regarded', 'as', 'one', 'of', 'the', 'greatest', 'players', 'of', 'all', 'time', ',', 'Ronaldo', 'has', 'won', 'five', 'Ballon', 'dOr', 'awards', 'and', 'four', 'European', 'Golden', 'Shoes', ',', 'the', 'most', 'by', 'a', 'European', 'player', '.']\n",
            "[('Widely', 'RB'), ('regarded', 'VBN'), ('as', 'IN'), ('one', 'CD'), ('of', 'IN'), ('the', 'DT'), ('greatest', 'JJS'), ('players', 'NNS'), ('of', 'IN'), ('all', 'DT'), ('time', 'NN'), (',', ','), ('Ronaldo', 'NNP'), ('has', 'VBZ'), ('won', 'VBN'), ('five', 'CD'), ('Ballon', 'NNP'), ('dOr', 'NN'), ('awards', 'NNS'), ('and', 'CC'), ('four', 'CD'), ('European', 'JJ'), ('Golden', 'NNP'), ('Shoes', 'NNP'), (',', ','), ('the', 'DT'), ('most', 'RBS'), ('by', 'IN'), ('a', 'DT'), ('European', 'NNP'), ('player', 'NN'), ('.', '.')]\n",
            "['He', 'has', 'won', '32', 'trophies', 'in', 'his', 'career', ',', 'including', 'seven', 'league', 'titles', ',', 'five', 'UEFA', 'Champions', 'Leagues', ',', 'and', 'the', 'UEFA', 'European', 'Championship', '.']\n",
            "[('He', 'PRP'), ('has', 'VBZ'), ('won', 'VBN'), ('32', 'CD'), ('trophies', 'NNS'), ('in', 'IN'), ('his', 'PRP$'), ('career', 'NN'), (',', ','), ('including', 'VBG'), ('seven', 'CD'), ('league', 'JJ'), ('titles', 'NNS'), (',', ','), ('five', 'CD'), ('UEFA', 'NNP'), ('Champions', 'NNPS'), ('Leagues', 'NNP'), (',', ','), ('and', 'CC'), ('the', 'DT'), ('UEFA', 'NNP'), ('European', 'NNP'), ('Championship', 'NNP'), ('.', '.')]\n",
            "['Ronaldo', 'holds', 'the', 'records', 'for', 'most', 'appearances', '(', '183', ')', ',', 'goals', '(', '140', ')', ',', 'and', 'assists', '(', '42', ')', 'in', 'the', 'Champions', 'League', ',', 'goals', 'in', 'the', 'European', 'Championship', '(', '14', ')', ',', 'international', 'goals', '(', '118', ')', ',', 'and', 'joint-most', 'international', 'appearances', '(', '196', ')', '.']\n",
            "[('Ronaldo', 'NNP'), ('holds', 'VBZ'), ('the', 'DT'), ('records', 'NNS'), ('for', 'IN'), ('most', 'JJS'), ('appearances', 'NNS'), ('(', '('), ('183', 'CD'), (')', ')'), (',', ','), ('goals', 'NNS'), ('(', '('), ('140', 'CD'), (')', ')'), (',', ','), ('and', 'CC'), ('assists', 'NNS'), ('(', '('), ('42', 'CD'), (')', ')'), ('in', 'IN'), ('the', 'DT'), ('Champions', 'NNP'), ('League', 'NNP'), (',', ','), ('goals', 'NNS'), ('in', 'IN'), ('the', 'DT'), ('European', 'JJ'), ('Championship', 'NNP'), ('(', '('), ('14', 'CD'), (')', ')'), (',', ','), ('international', 'JJ'), ('goals', 'NNS'), ('(', '('), ('118', 'CD'), (')', ')'), (',', ','), ('and', 'CC'), ('joint-most', 'JJ'), ('international', 'JJ'), ('appearances', 'NNS'), ('(', '('), ('196', 'CD'), (')', ')'), ('.', '.')]\n",
            "['He', 'is', 'one', 'of', 'the', 'few', 'players', 'to', 'have', 'made', 'over', '1,100', 'professional', 'career', 'appearances', ',', 'and', 'has', 'scored', 'over', '800', 'official', 'senior', 'career', 'goals', 'for', 'club', 'and', 'country', '.']\n",
            "[('He', 'PRP'), ('is', 'VBZ'), ('one', 'CD'), ('of', 'IN'), ('the', 'DT'), ('few', 'JJ'), ('players', 'NNS'), ('to', 'TO'), ('have', 'VB'), ('made', 'VBN'), ('over', 'IN'), ('1,100', 'CD'), ('professional', 'JJ'), ('career', 'NN'), ('appearances', 'NNS'), (',', ','), ('and', 'CC'), ('has', 'VBZ'), ('scored', 'VBN'), ('over', 'IN'), ('800', 'CD'), ('official', 'JJ'), ('senior', 'JJ'), ('career', 'NN'), ('goals', 'NNS'), ('for', 'IN'), ('club', 'NN'), ('and', 'CC'), ('country', 'NN'), ('.', '.')]\n",
            "['He', 'is', 'the', 'only', 'male', 'player', 'to', 'score', 'in', 'five', 'World', 'Cup', 'tournaments', '.']\n",
            "[('He', 'PRP'), ('is', 'VBZ'), ('the', 'DT'), ('only', 'JJ'), ('male', 'NN'), ('player', 'NN'), ('to', 'TO'), ('score', 'VB'), ('in', 'IN'), ('five', 'CD'), ('World', 'NNP'), ('Cup', 'NNP'), ('tournaments', 'NNS'), ('.', '.')]\n"
          ]
        }
      ]
    },
    {
      "cell_type": "code",
      "source": [],
      "metadata": {
        "id": "NrJ-OrOPeOhG"
      },
      "execution_count": null,
      "outputs": []
    }
  ]
}